{
 "cells": [
  {
   "cell_type": "code",
   "execution_count": 3,
   "metadata": {},
   "outputs": [],
   "source": [
    "import pandas as pd"
   ]
  },
  {
   "cell_type": "markdown",
   "metadata": {},
   "source": [
    "<H2>System Logs</H2>"
   ]
  },
  {
   "cell_type": "code",
   "execution_count": 10,
   "metadata": {},
   "outputs": [],
   "source": [
    "structured_system_log = './data/mac/Mac_2k.log_structured.csv'\n",
    "template_system_log = './data/mac/Mac_2k.log_templates.csv'"
   ]
  },
  {
   "cell_type": "code",
   "execution_count": 11,
   "metadata": {},
   "outputs": [],
   "source": [
    "structured_system_log_df = pd.read_csv(structured_system_log)\n",
    "template_system_log_df = pd.read_csv(template_system_log)"
   ]
  },
  {
   "cell_type": "code",
   "execution_count": 12,
   "metadata": {},
   "outputs": [
    {
     "data": {
      "text/html": [
       "<div>\n",
       "<style scoped>\n",
       "    .dataframe tbody tr th:only-of-type {\n",
       "        vertical-align: middle;\n",
       "    }\n",
       "\n",
       "    .dataframe tbody tr th {\n",
       "        vertical-align: top;\n",
       "    }\n",
       "\n",
       "    .dataframe thead th {\n",
       "        text-align: right;\n",
       "    }\n",
       "</style>\n",
       "<table border=\"1\" class=\"dataframe\">\n",
       "  <thead>\n",
       "    <tr style=\"text-align: right;\">\n",
       "      <th></th>\n",
       "      <th>LineId</th>\n",
       "      <th>Month</th>\n",
       "      <th>Date</th>\n",
       "      <th>Time</th>\n",
       "      <th>User</th>\n",
       "      <th>Component</th>\n",
       "      <th>PID</th>\n",
       "      <th>Address</th>\n",
       "      <th>Content</th>\n",
       "      <th>EventId</th>\n",
       "      <th>EventTemplate</th>\n",
       "    </tr>\n",
       "  </thead>\n",
       "  <tbody>\n",
       "    <tr>\n",
       "      <th>0</th>\n",
       "      <td>1</td>\n",
       "      <td>Jul</td>\n",
       "      <td>1</td>\n",
       "      <td>09:00:55</td>\n",
       "      <td>calvisitor-10-105-160-95</td>\n",
       "      <td>kernel</td>\n",
       "      <td>0</td>\n",
       "      <td>NaN</td>\n",
       "      <td>IOThunderboltSwitch&lt;0&gt;(0x0)::listenerCallback ...</td>\n",
       "      <td>E252</td>\n",
       "      <td>IOThunderboltSwitch&lt;&lt;*&gt;&gt;(&lt;*&gt;)::listenerCallbac...</td>\n",
       "    </tr>\n",
       "    <tr>\n",
       "      <th>1</th>\n",
       "      <td>2</td>\n",
       "      <td>Jul</td>\n",
       "      <td>1</td>\n",
       "      <td>09:01:05</td>\n",
       "      <td>calvisitor-10-105-160-95</td>\n",
       "      <td>com.apple.CDScheduler</td>\n",
       "      <td>43</td>\n",
       "      <td>NaN</td>\n",
       "      <td>Thermal pressure state: 1 Memory pressure stat...</td>\n",
       "      <td>E323</td>\n",
       "      <td>Thermal pressure state: &lt;*&gt; Memory pressure st...</td>\n",
       "    </tr>\n",
       "    <tr>\n",
       "      <th>2</th>\n",
       "      <td>3</td>\n",
       "      <td>Jul</td>\n",
       "      <td>1</td>\n",
       "      <td>09:01:06</td>\n",
       "      <td>calvisitor-10-105-160-95</td>\n",
       "      <td>QQ</td>\n",
       "      <td>10018</td>\n",
       "      <td>NaN</td>\n",
       "      <td>FA||Url||taskID[2019352994] dealloc</td>\n",
       "      <td>E216</td>\n",
       "      <td>FA||Url||taskID[&lt;*&gt;] dealloc</td>\n",
       "    </tr>\n",
       "    <tr>\n",
       "      <th>3</th>\n",
       "      <td>4</td>\n",
       "      <td>Jul</td>\n",
       "      <td>1</td>\n",
       "      <td>09:02:26</td>\n",
       "      <td>calvisitor-10-105-160-95</td>\n",
       "      <td>kernel</td>\n",
       "      <td>0</td>\n",
       "      <td>NaN</td>\n",
       "      <td>ARPT: 620701.011328: AirPort_Brcm43xx::syncPow...</td>\n",
       "      <td>E128</td>\n",
       "      <td>ARPT: &lt;*&gt;.&lt;*&gt;: AirPort_&lt;*&gt;::syncPowerState: WW...</td>\n",
       "    </tr>\n",
       "    <tr>\n",
       "      <th>4</th>\n",
       "      <td>5</td>\n",
       "      <td>Jul</td>\n",
       "      <td>1</td>\n",
       "      <td>09:02:26</td>\n",
       "      <td>authorMacBook-Pro</td>\n",
       "      <td>kernel</td>\n",
       "      <td>0</td>\n",
       "      <td>NaN</td>\n",
       "      <td>ARPT: 620702.879952: AirPort_Brcm43xx::platfor...</td>\n",
       "      <td>E124</td>\n",
       "      <td>ARPT: &lt;*&gt;.&lt;*&gt;: AirPort_&lt;*&gt;::platformWoWEnable:...</td>\n",
       "    </tr>\n",
       "  </tbody>\n",
       "</table>\n",
       "</div>"
      ],
      "text/plain": [
       "   LineId Month  Date      Time                      User  \\\n",
       "0       1   Jul     1  09:00:55  calvisitor-10-105-160-95   \n",
       "1       2   Jul     1  09:01:05  calvisitor-10-105-160-95   \n",
       "2       3   Jul     1  09:01:06  calvisitor-10-105-160-95   \n",
       "3       4   Jul     1  09:02:26  calvisitor-10-105-160-95   \n",
       "4       5   Jul     1  09:02:26         authorMacBook-Pro   \n",
       "\n",
       "               Component    PID Address  \\\n",
       "0                 kernel      0     NaN   \n",
       "1  com.apple.CDScheduler     43     NaN   \n",
       "2                     QQ  10018     NaN   \n",
       "3                 kernel      0     NaN   \n",
       "4                 kernel      0     NaN   \n",
       "\n",
       "                                             Content EventId  \\\n",
       "0  IOThunderboltSwitch<0>(0x0)::listenerCallback ...    E252   \n",
       "1  Thermal pressure state: 1 Memory pressure stat...    E323   \n",
       "2                FA||Url||taskID[2019352994] dealloc    E216   \n",
       "3  ARPT: 620701.011328: AirPort_Brcm43xx::syncPow...    E128   \n",
       "4  ARPT: 620702.879952: AirPort_Brcm43xx::platfor...    E124   \n",
       "\n",
       "                                       EventTemplate  \n",
       "0  IOThunderboltSwitch<<*>>(<*>)::listenerCallbac...  \n",
       "1  Thermal pressure state: <*> Memory pressure st...  \n",
       "2                       FA||Url||taskID[<*>] dealloc  \n",
       "3  ARPT: <*>.<*>: AirPort_<*>::syncPowerState: WW...  \n",
       "4  ARPT: <*>.<*>: AirPort_<*>::platformWoWEnable:...  "
      ]
     },
     "execution_count": 12,
     "metadata": {},
     "output_type": "execute_result"
    }
   ],
   "source": [
    "structured_system_log_df.head(5)"
   ]
  },
  {
   "cell_type": "markdown",
   "metadata": {},
   "source": [
    "descriptive statistics"
   ]
  },
  {
   "cell_type": "code",
   "execution_count": 14,
   "metadata": {},
   "outputs": [
    {
     "data": {
      "text/plain": [
       "EventId\n",
       "E189    166\n",
       "E188     71\n",
       "E120     56\n",
       "E203     44\n",
       "E323     39\n",
       "Name: count, dtype: int64"
      ]
     },
     "execution_count": 14,
     "metadata": {},
     "output_type": "execute_result"
    }
   ],
   "source": [
    "# EventID\n",
    "event_freq = structured_system_log_df['EventId'].value_counts()\n",
    "top_5_event_freq = event_freq.head(5)\n",
    "top_5_event_freq\n"
   ]
  },
  {
   "cell_type": "code",
   "execution_count": 17,
   "metadata": {},
   "outputs": [
    {
     "data": {
      "text/plain": [
       "Component\n",
       "kernel            775\n",
       "com.apple.cts     166\n",
       "corecaptured      158\n",
       "QQ                 75\n",
       "Microsoft Word     72\n",
       "Name: count, dtype: int64"
      ]
     },
     "execution_count": 17,
     "metadata": {},
     "output_type": "execute_result"
    }
   ],
   "source": [
    "# Component Logging Occurance\n",
    "component_freq = structured_system_log_df['Component'].value_counts()\n",
    "top_5_component_freq = component_freq.head(5)\n",
    "top_5_component_freq"
   ]
  },
  {
   "cell_type": "code",
   "execution_count": 19,
   "metadata": {},
   "outputs": [
    {
     "data": {
      "text/plain": [
       "User\n",
       "authorMacBook-Pro            554\n",
       "calvisitor-10-105-162-105    338\n",
       "calvisitor-10-105-162-178    256\n",
       "calvisitor-10-105-160-95     140\n",
       "calvisitor-10-105-163-202    137\n",
       "Name: count, dtype: int64"
      ]
     },
     "execution_count": 19,
     "metadata": {},
     "output_type": "execute_result"
    }
   ],
   "source": [
    "# Top user\n",
    "user_freq = structured_system_log_df['User'].value_counts()\n",
    "top_5_user_freq = user_freq.head(5)\n",
    "top_5_user_freq"
   ]
  },
  {
   "cell_type": "code",
   "execution_count": 44,
   "metadata": {},
   "outputs": [
    {
     "data": {
      "text/plain": [
       "PID\n",
       "0        775\n",
       "258      151\n",
       "43        77\n",
       "10018     75\n",
       "14463     72\n",
       "Name: count, dtype: int64"
      ]
     },
     "execution_count": 44,
     "metadata": {},
     "output_type": "execute_result"
    }
   ],
   "source": [
    "# Top PID\n",
    "pid_freq = structured_system_log_df['PID'].value_counts()\n",
    "top_5_pid_freq = pid_freq.head(5)\n",
    "top_5_pid_freq"
   ]
  },
  {
   "cell_type": "markdown",
   "metadata": {},
   "source": [
    "Anomaly Detection"
   ]
  },
  {
   "cell_type": "code",
   "execution_count": 22,
   "metadata": {},
   "outputs": [
    {
     "data": {
      "text/plain": [
       "135"
      ]
     },
     "execution_count": 22,
     "metadata": {},
     "output_type": "execute_result"
    }
   ],
   "source": [
    "# Rare event\n",
    "rare_event = event_freq[event_freq == event_freq.min()]\n",
    "rare_event.count()"
   ]
  },
  {
   "cell_type": "code",
   "execution_count": 121,
   "metadata": {},
   "outputs": [
    {
     "name": "stderr",
     "output_type": "stream",
     "text": [
      "/var/folders/kl/91sz4j8n53j318l8bcb5qjkh0000gn/T/ipykernel_30428/1421129578.py:3: DeprecationWarning:\n",
      "\n",
      "DataFrameGroupBy.apply operated on the grouping columns. This behavior is deprecated, and in a future version of pandas the grouping columns will be excluded from the operation. Either pass `include_groups=False` to exclude the groupings or explicitly select the grouping columns after groupby to silence this warning.\n",
      "\n"
     ]
    },
    {
     "data": {
      "text/plain": [
       "Month  Date  Datetime           \n",
       "Jul    4     1900-01-01 23:22:00    72\n",
       "       3     1900-01-01 16:07:00    17\n",
       "       5     1900-01-01 14:04:00    17\n",
       "       7     1900-01-01 13:40:00    14\n",
       "             1900-01-01 13:42:00    13\n",
       "dtype: int64"
      ]
     },
     "execution_count": 121,
     "metadata": {},
     "output_type": "execute_result"
    }
   ],
   "source": [
    "# Spike in event over a minute\n",
    "structured_system_log_df['Datetime'] = pd.to_datetime(structured_system_log_df['Time'], format = '%H:%M:%S')\n",
    "time_series = structured_system_log_df.groupby(['Month', 'Date']).apply(\n",
    "    lambda group: group.set_index('Datetime').resample('min').size()\n",
    ")\n",
    "\n",
    "top_5_spikes = time_series.nlargest(5)\n",
    "top_5_spikes\n"
   ]
  },
  {
   "cell_type": "code",
   "execution_count": 372,
   "metadata": {},
   "outputs": [
    {
     "data": {
      "text/plain": [
       "EventId\n",
       "E188    71\n",
       "E9       1\n",
       "Name: count, dtype: int64"
      ]
     },
     "execution_count": 372,
     "metadata": {},
     "output_type": "execute_result"
    }
   ],
   "source": [
    "fouth_of_july_df = structured_system_log_df[(structured_system_log_df['Month']=='Jul') & (structured_system_log_df['Date']== 4)]\n",
    "spike_df = fouth_of_july_df[(fouth_of_july_df[\"Time\"] >= \"23:22:00\") & (fouth_of_july_df[\"Time\"] < \"23:23:00\")]\n",
    "spike_df.groupby([\"EventId\"])[\"EventId\"].value_counts()\n"
   ]
  },
  {
   "cell_type": "markdown",
   "metadata": {},
   "source": [
    "Period of Inactivity"
   ]
  },
  {
   "cell_type": "code",
   "execution_count": 233,
   "metadata": {},
   "outputs": [
    {
     "name": "stdout",
     "output_type": "stream",
     "text": [
      "The top 3 period of inactivity is between:\n",
      "\n",
      "2024-07-02 10:11:17 to 2024-07-02 10:11:17: 0 days 07:39:00\n",
      "\n",
      "2024-07-05 10:31:18 to 2024-07-05 10:31:18: 0 days 06:18:56\n",
      "\n",
      "2024-07-01 19:43:22 to 2024-07-01 19:43:22: 0 days 04:37:31\n"
     ]
    }
   ],
   "source": [
    "date_time_structured_system_log_df = structured_system_log_df\n",
    "date_time_structured_system_log_df['DateTime'] = pd.to_datetime('2024 ' + date_time_structured_system_log_df['Month'] + \" \" + date_time_structured_system_log_df['Date'].astype(str) + \" \" + date_time_structured_system_log_df['Time'])\n",
    "time_diff = date_time_structured_system_log_df['DateTime'].diff().dropna()\n",
    "top_3_down_time = time_diff.nlargest(3).reset_index()\n",
    "\n",
    "print('The top 3 period of inactivity is between:')\n",
    "for i in top_3_down_time.values:\n",
    "    print(f\"\\n{date_time_structured_system_log_df.iloc[i[0]]['DateTime']} to {date_time_structured_system_log_df.iloc[i[0]]['DateTime']}: {i[1]}\")\n"
   ]
  },
  {
   "cell_type": "markdown",
   "metadata": {},
   "source": [
    "Potential Shut Down"
   ]
  },
  {
   "cell_type": "code",
   "execution_count": 257,
   "metadata": {},
   "outputs": [
    {
     "data": {
      "text/html": [
       "<div>\n",
       "<style scoped>\n",
       "    .dataframe tbody tr th:only-of-type {\n",
       "        vertical-align: middle;\n",
       "    }\n",
       "\n",
       "    .dataframe tbody tr th {\n",
       "        vertical-align: top;\n",
       "    }\n",
       "\n",
       "    .dataframe thead th {\n",
       "        text-align: right;\n",
       "    }\n",
       "</style>\n",
       "<table border=\"1\" class=\"dataframe\">\n",
       "  <thead>\n",
       "    <tr style=\"text-align: right;\">\n",
       "      <th></th>\n",
       "      <th>LineId</th>\n",
       "      <th>Month</th>\n",
       "      <th>Date</th>\n",
       "      <th>Time</th>\n",
       "      <th>User</th>\n",
       "      <th>Component</th>\n",
       "      <th>PID</th>\n",
       "      <th>Address</th>\n",
       "      <th>Content</th>\n",
       "      <th>EventId</th>\n",
       "      <th>EventTemplate</th>\n",
       "      <th>Datetime</th>\n",
       "      <th>DateTime</th>\n",
       "    </tr>\n",
       "  </thead>\n",
       "  <tbody>\n",
       "    <tr>\n",
       "      <th>1405</th>\n",
       "      <td>1406</td>\n",
       "      <td>Jul</td>\n",
       "      <td>6</td>\n",
       "      <td>09:31:18</td>\n",
       "      <td>calvisitor-10-105-163-253</td>\n",
       "      <td>WindowServer</td>\n",
       "      <td>184</td>\n",
       "      <td>NaN</td>\n",
       "      <td>no sleep images for WillPowerOffWithImages</td>\n",
       "      <td>E274</td>\n",
       "      <td>no sleep images for WillPowerOffWithImages</td>\n",
       "      <td>1900-01-01 09:31:18</td>\n",
       "      <td>2024-07-06 09:31:18</td>\n",
       "    </tr>\n",
       "  </tbody>\n",
       "</table>\n",
       "</div>"
      ],
      "text/plain": [
       "      LineId Month  Date      Time                       User     Component  \\\n",
       "1405    1406   Jul     6  09:31:18  calvisitor-10-105-163-253  WindowServer   \n",
       "\n",
       "      PID Address                                     Content EventId  \\\n",
       "1405  184     NaN  no sleep images for WillPowerOffWithImages    E274   \n",
       "\n",
       "                                   EventTemplate            Datetime  \\\n",
       "1405  no sleep images for WillPowerOffWithImages 1900-01-01 09:31:18   \n",
       "\n",
       "                DateTime  \n",
       "1405 2024-07-06 09:31:18  "
      ]
     },
     "execution_count": 257,
     "metadata": {},
     "output_type": "execute_result"
    }
   ],
   "source": [
    "shutdown_keywords = ['shutdown', 'halt', 'poweroff', 'reboot']\n",
    "shutdown_logs = structured_system_log_df[structured_system_log_df['Content'].str.contains('|'.join(shutdown_keywords), case=False, na=False)]\n",
    "shutdown_logs"
   ]
  },
  {
   "cell_type": "markdown",
   "metadata": {},
   "source": [
    "Common Errors"
   ]
  },
  {
   "cell_type": "code",
   "execution_count": 328,
   "metadata": {},
   "outputs": [
    {
     "data": {
      "text/plain": [
       "EventId\n",
       "E188    71\n",
       "E283    15\n",
       "E214    13\n",
       "E313    12\n",
       "E17     11\n",
       "Name: count, dtype: int64"
      ]
     },
     "execution_count": 328,
     "metadata": {},
     "output_type": "execute_result"
    }
   ],
   "source": [
    "error_keywords = ['error']\n",
    "error_logs = structured_system_log_df[structured_system_log_df['Content'].str.contains('|'.join(error_keywords), case=False, na=False)]\n",
    "error_logs.groupby(\"EventId\")[\"EventId\"].value_counts().nlargest(5)"
   ]
  },
  {
   "cell_type": "markdown",
   "metadata": {},
   "source": [
    "Correlation Analysis"
   ]
  },
  {
   "cell_type": "code",
   "execution_count": 272,
   "metadata": {},
   "outputs": [
    {
     "data": {
      "text/plain": [
       "<Axes: >"
      ]
     },
     "execution_count": 272,
     "metadata": {},
     "output_type": "execute_result"
    },
    {
     "data": {
      "image/png": "[encoded data removed]",
      "text/plain": [
       "<Figure size 640x480 with 2 Axes>"
      ]
     },
     "metadata": {},
     "output_type": "display_data"
    }
   ],
   "source": [
    "encode_data = pd.get_dummies(structured_system_log_df[['Component', 'User', 'EventId']], drop_first=True)\n",
    "correlation_df = encode_data.corr()\n",
    "sns.heatmap(correlation_df, yticklabels=False, xticklabels=False,cmap= 'Blues')\n"
   ]
  },
  {
   "cell_type": "code",
   "execution_count": 278,
   "metadata": {},
   "outputs": [
    {
     "data": {
      "text/plain": [
       "EventId_E188                                            Component_Microsoft Word              0.992774\n",
       "Component_quicklookd                                    EventId_E214                          0.963382\n",
       "EventId_E52                                             Component_sandboxd                    0.908872\n",
       "EventId_E283                                            Component_com.apple.xpc.launchd       0.887628\n",
       "EventId_E253                                            Component_WeChat                      0.876397\n",
       "Component_syslogd                                       EventId_E153                          0.865373\n",
       "Component_secd                                          EventId_E313                          0.865154\n",
       "Component_com.apple.AddressBook.InternetAccountsBridge  EventId_E203                          0.860258\n",
       "Component_WindowServer                                  EventId_E305                          0.824652\n",
       "EventId_E309                                            Component_com.apple.SecurityServer    0.816292\n",
       "dtype: float64"
      ]
     },
     "execution_count": 278,
     "metadata": {},
     "output_type": "execute_result"
    }
   ],
   "source": [
    "correlation_matrix_unstacked = correlation_df.unstack().sort_values(ascending=False)\n",
    "top_correlations = correlation_matrix_unstacked[correlation_matrix_unstacked!= 1].drop_duplicates()\n",
    "top_correlations.head(10) \n",
    "\n"
   ]
  }
 ],
 "metadata": {
  "kernelspec": {
   "display_name": "llm",
   "language": "python",
   "name": "python3"
  },
  "language_info": {
   "codemirror_mode": {
    "name": "ipython",
    "version": 3
   },
   "file_extension": ".py",
   "mimetype": "text/x-python",
   "name": "python",
   "nbconvert_exporter": "python",
   "pygments_lexer": "ipython3",
   "version": "3.11.5"
  }
 },
 "nbformat": 4,
 "nbformat_minor": 2
}
