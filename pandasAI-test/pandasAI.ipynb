{
 "cells": [
  {
   "cell_type": "code",
   "execution_count": 2,
   "metadata": {},
   "outputs": [
    {
     "name": "stderr",
     "output_type": "stream",
     "text": [
      "/Users/chuapk/.pyenv/versions/3.11.5/envs/jy/lib/python3.11/site-packages/langchain_ollama/__init__.py:3: LangChainDeprecationWarning: As of langchain-core 0.3.0, LangChain uses pydantic v2 internally. The langchain_core.pydantic_v1 module was a compatibility shim for pydantic v1, and should no longer be used. Please update the code to import from Pydantic directly.\n",
      "\n",
      "For example, replace imports like: `from langchain_core.pydantic_v1 import BaseModel`\n",
      "with: `from pydantic import BaseModel`\n",
      "or the v1 compatibility namespace if you are working in a code base that has not been fully upgraded to pydantic 2 yet. \tfrom pydantic.v1 import BaseModel\n",
      "\n",
      "  from langchain_ollama.chat_models import ChatOllama\n"
     ]
    }
   ],
   "source": [
    "import pandas as pd\n",
    "import seaborn as sns\n",
    "from pandasai import Agent\n",
    "from langchain_ollama import OllamaLLM\n",
    "from pandas.api.types import is_string_dtype\n",
    "import datetime\n",
    "import re"
   ]
  },
  {
   "cell_type": "code",
   "execution_count": 199,
   "metadata": {},
   "outputs": [],
   "source": [
    "# Load Data\n",
    "df = pd.read_csv(\"../logs/mac/Mac_2k.log_structured.csv\")\n",
    "df[\"Combined\"] = df[\"Month\"] + \" \" + df[\"Date\"].astype(str) + \" \" + df[\"Time\"]\n",
    "df[\"Datetime\"] = pd.to_datetime(df[\"Combined\"], format='%b %d %H:%M:%S')\n",
    "df.drop(columns = [\"Date\", \"Month\", \"Time\"], inplace = True)"
   ]
  },
  {
   "cell_type": "code",
   "execution_count": 105,
   "metadata": {},
   "outputs": [],
   "source": [
    "def break_down_date_component(date_str):\n",
    "    # Try to convert it to a datetime object first (handles full dates like '2007-08-11')\n",
    "    try:\n",
    "        full_date = pd.to_datetime(date_str, errors='raise')\n",
    "        return {\n",
    "            'year': full_date.year,\n",
    "            'month': full_date.month,\n",
    "            'day': full_date.day\n",
    "        }\n",
    "    except (ValueError, TypeError):\n",
    "        pass\n",
    "\n",
    "    # Check if it's just a day (a single digit or two digits)\n",
    "    if re.match(r'^\\d{1,2}$', date_str):\n",
    "        return {'day': int(date_str)}\n",
    "\n",
    "    # Check if it's a month abbreviation and a day (e.g., \"Aug 11\")\n",
    "    month_day_match = re.match(r'^([A-Za-z]+)\\s+(\\d{1,2})$', date_str)\n",
    "    if month_day_match:\n",
    "        month_str = month_day_match.group(1)\n",
    "        day = int(month_day_match.group(2))\n",
    "        month = pd.to_datetime(month_str, format='%b', errors='coerce').month\n",
    "        return {'month': month, 'day': day}\n",
    "\n",
    "    # Check if it's a day followed by a month (e.g., \"11 Aug\")\n",
    "    day_month_match = re.match(r'^(\\d{1,2})\\s+([A-Za-z]+)$', date_str)\n",
    "    if day_month_match:\n",
    "        day = int(day_month_match.group(1))\n",
    "        month_str = day_month_match.group(2)\n",
    "        month = pd.to_datetime(month_str, format='%b', errors='coerce').month\n",
    "        return {'month': month, 'day': day}\n",
    "    \n",
    "    # Check if the date_str is just a month (either abbreviation like 'Jul' or full name like 'July')\n",
    "    month_match = re.match(r'^([A-Za-z]+)$', date_str)\n",
    "    if month_match:\n",
    "        month_str = month_match.group(1)\n",
    "        month = pd.to_datetime(month_str, format='%b', errors='coerce').month\n",
    "        \n",
    "        if pd.isna(month):  # If it's not a valid abbreviated month, try full month name\n",
    "            month = pd.to_datetime(month_str, format='%B', errors='coerce').month\n",
    "        \n",
    "        if month:  # Return only the month if matched\n",
    "            return {'month': month}\n",
    "\n",
    "    # If no match, return None or raise an error\n",
    "    return None"
   ]
  },
  {
   "cell_type": "code",
   "execution_count": 139,
   "metadata": {},
   "outputs": [],
   "source": [
    "def combine_datetime_columns(df, default_year=2024):\n",
    "    # Define a list of common datetime-related column names\n",
    "    datetime_keywords = [\"year\", \"month\", \"day\", \"date\", \"time\", \"hour\", \"minute\", \"second\"]\n",
    "\n",
    "    # Identify columns that likely contain datetime information\n",
    "    datetime_cols = [col for col in df.columns if any(keyword in col.lower() for keyword in datetime_keywords)]\n",
    "    \n",
    "    if not datetime_cols:\n",
    "        print(\"No datetime components found.\")\n",
    "        return df\n",
    "\n",
    "    # Check if \"Date\" column already contains full or partial date components\n",
    "    for col in df.columns:\n",
    "        if 'date' == col.lower():\n",
    "            # Attempt to break down the 'Date' column\n",
    "            df[col] = df[col].astype(str)\n",
    "            date_parts = df[col].apply(break_down_date_component)\n",
    "            df['Year'] = [date.get('year', default_year) for date in date_parts]\n",
    "            df['Month'] = df[\"Month\"] if \"Month\" in df.columns else [date.get('month', None) for date in date_parts]\n",
    "            df['Day'] = df[\"Day\"] if \"Day\" in df.columns else [date.get('day', None) for date in date_parts]\n",
    "\n",
    "            # Now combine the components into the 'Datetime' column\n",
    "            if 'Time' in df.columns:\n",
    "                df['Datetime'] = df['Year'].astype(str) + '-' + df['Month'].astype(str) + '-' + df['Day'].astype(str) + ' ' + df['Time'].astype(str)\n",
    "            else:\n",
    "                df['Datetime'] = df['Year'].astype(str) + '-' + df['Month'].astype(str) + '-' + df['Day'].astype(str)\n",
    "\n",
    "            if \"Year\" not in datetime_cols:\n",
    "                datetime_cols.append(\"Year\")\n",
    "            if \"Month\" not in datetime_cols:\n",
    "                datetime_cols.append(\"Month\")\n",
    "            if \"Day\" not in datetime_cols:\n",
    "                datetime_cols.append(\"Day\")\n",
    "\n",
    "    # Convert the combined \"Datetime\" column into a proper datetime format\n",
    "    try:\n",
    "        df['Datetime'] = pd.to_datetime(df['Datetime'])\n",
    "        # Drop the original datetime-related columns after successful conversion\n",
    "        cols_to_drop = datetime_cols\n",
    "        df.drop(columns=cols_to_drop, inplace=True)\n",
    "    except ValueError as e:\n",
    "        print(f\"Error converting to datetime: {e}. Please check the format of the combined column.\")\n",
    "\n",
    "    return df"
   ]
  },
  {
   "cell_type": "code",
   "execution_count": 140,
   "metadata": {},
   "outputs": [
    {
     "name": "stdout",
     "output_type": "stream",
     "text": [
      "0       {'day': 14}\n",
      "1       {'day': 14}\n",
      "2       {'day': 14}\n",
      "3       {'day': 15}\n",
      "4       {'day': 15}\n",
      "           ...     \n",
      "1995    {'day': 27}\n",
      "1996    {'day': 27}\n",
      "1997    {'day': 27}\n",
      "1998    {'day': 27}\n",
      "1999    {'day': 27}\n",
      "Name: Date, Length: 2000, dtype: object\n"
     ]
    },
    {
     "data": {
      "text/html": [
       "<div>\n",
       "<style scoped>\n",
       "    .dataframe tbody tr th:only-of-type {\n",
       "        vertical-align: middle;\n",
       "    }\n",
       "\n",
       "    .dataframe tbody tr th {\n",
       "        vertical-align: top;\n",
       "    }\n",
       "\n",
       "    .dataframe thead th {\n",
       "        text-align: right;\n",
       "    }\n",
       "</style>\n",
       "<table border=\"1\" class=\"dataframe\">\n",
       "  <thead>\n",
       "    <tr style=\"text-align: right;\">\n",
       "      <th></th>\n",
       "      <th>LineId</th>\n",
       "      <th>Level</th>\n",
       "      <th>Component</th>\n",
       "      <th>PID</th>\n",
       "      <th>Content</th>\n",
       "      <th>EventId</th>\n",
       "      <th>EventTemplate</th>\n",
       "      <th>Datetime</th>\n",
       "    </tr>\n",
       "  </thead>\n",
       "  <tbody>\n",
       "    <tr>\n",
       "      <th>0</th>\n",
       "      <td>1</td>\n",
       "      <td>combo</td>\n",
       "      <td>sshd(pam_unix)</td>\n",
       "      <td>19939.0</td>\n",
       "      <td>authentication failure; logname= uid=0 euid=0 ...</td>\n",
       "      <td>E16</td>\n",
       "      <td>authentication failure; logname= uid=0 euid=0 ...</td>\n",
       "      <td>2024-06-14 15:16:01</td>\n",
       "    </tr>\n",
       "    <tr>\n",
       "      <th>1</th>\n",
       "      <td>2</td>\n",
       "      <td>combo</td>\n",
       "      <td>sshd(pam_unix)</td>\n",
       "      <td>19937.0</td>\n",
       "      <td>check pass; user unknown</td>\n",
       "      <td>E27</td>\n",
       "      <td>check pass; user unknown</td>\n",
       "      <td>2024-06-14 15:16:02</td>\n",
       "    </tr>\n",
       "    <tr>\n",
       "      <th>2</th>\n",
       "      <td>3</td>\n",
       "      <td>combo</td>\n",
       "      <td>sshd(pam_unix)</td>\n",
       "      <td>19937.0</td>\n",
       "      <td>authentication failure; logname= uid=0 euid=0 ...</td>\n",
       "      <td>E16</td>\n",
       "      <td>authentication failure; logname= uid=0 euid=0 ...</td>\n",
       "      <td>2024-06-14 15:16:02</td>\n",
       "    </tr>\n",
       "    <tr>\n",
       "      <th>3</th>\n",
       "      <td>4</td>\n",
       "      <td>combo</td>\n",
       "      <td>sshd(pam_unix)</td>\n",
       "      <td>20882.0</td>\n",
       "      <td>authentication failure; logname= uid=0 euid=0 ...</td>\n",
       "      <td>E18</td>\n",
       "      <td>authentication failure; logname= uid=0 euid=0 ...</td>\n",
       "      <td>2024-06-15 02:04:59</td>\n",
       "    </tr>\n",
       "    <tr>\n",
       "      <th>4</th>\n",
       "      <td>5</td>\n",
       "      <td>combo</td>\n",
       "      <td>sshd(pam_unix)</td>\n",
       "      <td>20884.0</td>\n",
       "      <td>authentication failure; logname= uid=0 euid=0 ...</td>\n",
       "      <td>E18</td>\n",
       "      <td>authentication failure; logname= uid=0 euid=0 ...</td>\n",
       "      <td>2024-06-15 02:04:59</td>\n",
       "    </tr>\n",
       "    <tr>\n",
       "      <th>...</th>\n",
       "      <td>...</td>\n",
       "      <td>...</td>\n",
       "      <td>...</td>\n",
       "      <td>...</td>\n",
       "      <td>...</td>\n",
       "      <td>...</td>\n",
       "      <td>...</td>\n",
       "      <td>...</td>\n",
       "    </tr>\n",
       "    <tr>\n",
       "      <th>1995</th>\n",
       "      <td>1996</td>\n",
       "      <td>combo</td>\n",
       "      <td>kernel</td>\n",
       "      <td>NaN</td>\n",
       "      <td>pci_hotplug: PCI Hot Plug PCI Core version: 0.5</td>\n",
       "      <td>E83</td>\n",
       "      <td>pci_hotplug: PCI Hot Plug PCI Core version: &lt;*...</td>\n",
       "      <td>2024-07-27 14:41:59</td>\n",
       "    </tr>\n",
       "    <tr>\n",
       "      <th>1996</th>\n",
       "      <td>1997</td>\n",
       "      <td>combo</td>\n",
       "      <td>kernel</td>\n",
       "      <td>NaN</td>\n",
       "      <td>isapnp: Scanning for PnP cards...</td>\n",
       "      <td>E60</td>\n",
       "      <td>isapnp: Scanning for PnP cards...</td>\n",
       "      <td>2024-07-27 14:42:00</td>\n",
       "    </tr>\n",
       "    <tr>\n",
       "      <th>1997</th>\n",
       "      <td>1998</td>\n",
       "      <td>combo</td>\n",
       "      <td>kernel</td>\n",
       "      <td>NaN</td>\n",
       "      <td>isapnp: No Plug &amp; Play device found</td>\n",
       "      <td>E59</td>\n",
       "      <td>isapnp: No Plug &amp; Play device found</td>\n",
       "      <td>2024-07-27 14:42:00</td>\n",
       "    </tr>\n",
       "    <tr>\n",
       "      <th>1998</th>\n",
       "      <td>1999</td>\n",
       "      <td>combo</td>\n",
       "      <td>kernel</td>\n",
       "      <td>NaN</td>\n",
       "      <td>Real Time Clock Driver v1.12</td>\n",
       "      <td>E87</td>\n",
       "      <td>Real Time Clock Driver v&lt;*&gt;.&lt;*&gt;</td>\n",
       "      <td>2024-07-27 14:42:00</td>\n",
       "    </tr>\n",
       "    <tr>\n",
       "      <th>1999</th>\n",
       "      <td>2000</td>\n",
       "      <td>combo</td>\n",
       "      <td>kernel</td>\n",
       "      <td>NaN</td>\n",
       "      <td>Linux agpgart interface v0.100 (c) Dave Jones</td>\n",
       "      <td>E66</td>\n",
       "      <td>Linux agpgart interface v&lt;*&gt;.&lt;*&gt; (c) Dave Jones</td>\n",
       "      <td>2024-07-27 14:42:00</td>\n",
       "    </tr>\n",
       "  </tbody>\n",
       "</table>\n",
       "<p>2000 rows × 8 columns</p>\n",
       "</div>"
      ],
      "text/plain": [
       "      LineId  Level       Component      PID  \\\n",
       "0          1  combo  sshd(pam_unix)  19939.0   \n",
       "1          2  combo  sshd(pam_unix)  19937.0   \n",
       "2          3  combo  sshd(pam_unix)  19937.0   \n",
       "3          4  combo  sshd(pam_unix)  20882.0   \n",
       "4          5  combo  sshd(pam_unix)  20884.0   \n",
       "...      ...    ...             ...      ...   \n",
       "1995    1996  combo          kernel      NaN   \n",
       "1996    1997  combo          kernel      NaN   \n",
       "1997    1998  combo          kernel      NaN   \n",
       "1998    1999  combo          kernel      NaN   \n",
       "1999    2000  combo          kernel      NaN   \n",
       "\n",
       "                                                Content EventId  \\\n",
       "0     authentication failure; logname= uid=0 euid=0 ...     E16   \n",
       "1                              check pass; user unknown     E27   \n",
       "2     authentication failure; logname= uid=0 euid=0 ...     E16   \n",
       "3     authentication failure; logname= uid=0 euid=0 ...     E18   \n",
       "4     authentication failure; logname= uid=0 euid=0 ...     E18   \n",
       "...                                                 ...     ...   \n",
       "1995    pci_hotplug: PCI Hot Plug PCI Core version: 0.5     E83   \n",
       "1996                  isapnp: Scanning for PnP cards...     E60   \n",
       "1997                isapnp: No Plug & Play device found     E59   \n",
       "1998                       Real Time Clock Driver v1.12     E87   \n",
       "1999      Linux agpgart interface v0.100 (c) Dave Jones     E66   \n",
       "\n",
       "                                          EventTemplate            Datetime  \n",
       "0     authentication failure; logname= uid=0 euid=0 ... 2024-06-14 15:16:01  \n",
       "1                              check pass; user unknown 2024-06-14 15:16:02  \n",
       "2     authentication failure; logname= uid=0 euid=0 ... 2024-06-14 15:16:02  \n",
       "3     authentication failure; logname= uid=0 euid=0 ... 2024-06-15 02:04:59  \n",
       "4     authentication failure; logname= uid=0 euid=0 ... 2024-06-15 02:04:59  \n",
       "...                                                 ...                 ...  \n",
       "1995  pci_hotplug: PCI Hot Plug PCI Core version: <*... 2024-07-27 14:41:59  \n",
       "1996                  isapnp: Scanning for PnP cards... 2024-07-27 14:42:00  \n",
       "1997                isapnp: No Plug & Play device found 2024-07-27 14:42:00  \n",
       "1998                    Real Time Clock Driver v<*>.<*> 2024-07-27 14:42:00  \n",
       "1999    Linux agpgart interface v<*>.<*> (c) Dave Jones 2024-07-27 14:42:00  \n",
       "\n",
       "[2000 rows x 8 columns]"
      ]
     },
     "execution_count": 140,
     "metadata": {},
     "output_type": "execute_result"
    }
   ],
   "source": [
    "df = pd.read_csv(\"../logs/Linux/Linux_2k.log_structured.csv\")\n",
    "combine_datetime_columns(df)"
   ]
  },
  {
   "cell_type": "code",
   "execution_count": 157,
   "metadata": {},
   "outputs": [],
   "source": [
    "# LLM\n",
    "llm = OllamaLLM(\n",
    "    model = \"codellama:7b\",\n",
    "    temperature = 0.1\n",
    ")\n",
    "\n",
    "# Running PandasAI\n",
    "pandas_ai_agent = Agent(\n",
    "    df, \n",
    "    description = \"\"\"\n",
    "    You are a data analysis agent tasked with the main goal to answer any data related queries. \n",
    "    Everytime I ask you a question, you should provide the code to that specifically answers the question.\n",
    "    \"\"\",\n",
    "    config = {\n",
    "        \"llm\" : llm,\n",
    "        \"enable_cache\" : False\n",
    "})"
   ]
  },
  {
   "cell_type": "code",
   "execution_count": 161,
   "metadata": {},
   "outputs": [
    {
     "name": "stdout",
     "output_type": "stream",
     "text": [
      "Number of rows: 2000\n"
     ]
    },
    {
     "name": "stderr",
     "output_type": "stream",
     "text": [
      "Traceback (most recent call last):\n",
      "  File \"/Users/chuapk/.pyenv/versions/3.11.5/envs/jy/lib/python3.11/site-packages/pandasai/pipelines/chat/generate_chat_pipeline.py\", line 335, in run\n",
      "    ).run(input)\n",
      "      ^^^^^^^^^^\n",
      "  File \"/Users/chuapk/.pyenv/versions/3.11.5/envs/jy/lib/python3.11/site-packages/pandasai/pipelines/pipeline.py\", line 137, in run\n",
      "    raise e\n",
      "  File \"/Users/chuapk/.pyenv/versions/3.11.5/envs/jy/lib/python3.11/site-packages/pandasai/pipelines/pipeline.py\", line 101, in run\n",
      "    step_output = logic.execute(\n",
      "                  ^^^^^^^^^^^^^^\n",
      "  File \"/Users/chuapk/.pyenv/versions/3.11.5/envs/jy/lib/python3.11/site-packages/pandasai/pipelines/chat/code_execution.py\", line 113, in execute\n",
      "    raise e\n",
      "  File \"/Users/chuapk/.pyenv/versions/3.11.5/envs/jy/lib/python3.11/site-packages/pandasai/pipelines/chat/code_execution.py\", line 85, in execute\n",
      "    result = self.execute_code(code_to_run, code_context)\n",
      "             ^^^^^^^^^^^^^^^^^^^^^^^^^^^^^^^^^^^^^^^^^^^^\n",
      "  File \"/Users/chuapk/.pyenv/versions/3.11.5/envs/jy/lib/python3.11/site-packages/pandasai/pipelines/chat/code_execution.py\", line 175, in execute_code\n",
      "    raise NoResultFoundError(\"No result returned\")\n",
      "pandasai.exceptions.NoResultFoundError: No result returned\n"
     ]
    },
    {
     "data": {
      "text/plain": [
       "'Unfortunately, I was not able to answer your question, because of the following error:\\n\\nNo result returned\\n'"
      ]
     },
     "execution_count": 161,
     "metadata": {},
     "output_type": "execute_result"
    }
   ],
   "source": [
    "prompt = \"\"\"\n",
    "The following is the prompt from the user:\n",
    "Can you plot the top 5 most frequent event in a bar chart?\n",
    "\n",
    "You are to following the instructions below strictly:\n",
    "- dfs: list[pd.DataFrame] is already provided.\n",
    "- You must not provide a return statement.\n",
    "- Any query related to Date or Time, refer to the 'Datetime' column.\n",
    "- Any query related to ERROR, WARNING or EVENT, refer to the EventTemplate column.\n",
    "- Use plt.xticks(rotation=45, ha='right', fontsize=6) \n",
    "- Use plt.tight_layout()\n",
    "\"\"\"\n",
    "\n",
    "print(pandas_ai_agent.chat(prompt))\n"
   ]
  },
  {
   "cell_type": "markdown",
   "metadata": {},
   "source": [
    "<H1>Summary test</H1>"
   ]
  },
  {
   "cell_type": "code",
   "execution_count": 210,
   "metadata": {},
   "outputs": [],
   "source": [
    "from pandasai.responses.streamlit_response import StreamlitResponse\n",
    "from langchain_community.llms import Ollama\n",
    "import re\n",
    "llm_code = Ollama(model = 'codellama', temperature = 0)\n",
    "pandas_ai_agent = Agent(\n",
    "    df, \n",
    "    description = \"\"\"\n",
    "    You are a data analysis agent tasked with the main goal to answer any data related queries. \n",
    "    You are to following the instructions below strictly:\n",
    "    - dfs: list[pd.DataFrame] is already provided.\n",
    "    - You must not provide a return statement.\n",
    "    - Any query related to Date or Time, refer to the 'Datetime' column.\n",
    "    - Any query related to ERROR, WARNING or EVENT, refer to the EventTemplate column.\n",
    "    - Use plt.xticks(rotation=45, ha='right', fontsize=6) for plots\n",
    "    - Use plt.tight_layout() for plots\n",
    "    \"\"\",\n",
    "    config = {\n",
    "        \"llm\" : llm_code,\n",
    "        \"enable_cache\" : False,\n",
    "        \"response_parser\": StreamlitResponse\n",
    "        \n",
    "})\n",
    "def get_extracted_type(exp):\n",
    "    pattern = r\"'type':\\s*'([^']*)'\"\n",
    "\n",
    "    # Use re.search to find the 'type' value\n",
    "    match = re.search(pattern, exp)\n",
    "\n",
    "    if match:\n",
    "        type_value = match.group(1)\n",
    "        return type_value\n",
    "    else:\n",
    "        return \"\"\n",
    "def agent(query, llm=pandas_ai_agent):\n",
    "    ans = pandas_ai_agent.chat(query)\n",
    "    return ans, llm"
   ]
  },
  {
   "cell_type": "code",
   "execution_count": 27,
   "metadata": {},
   "outputs": [],
   "source": [
    "query = 'Give me the top 5 users'\n",
    "a, b = agent(query)"
   ]
  },
  {
   "cell_type": "code",
   "execution_count": 35,
   "metadata": {},
   "outputs": [
    {
     "data": {
      "text/plain": [
       "\"result = {'type': 'dataframe', 'value': dfs[0].sort_values(by='User', ascending=False).head(5)}\""
      ]
     },
     "execution_count": 35,
     "metadata": {},
     "output_type": "execute_result"
    }
   ],
   "source": [
    "b.last_code_executed"
   ]
  },
  {
   "cell_type": "code",
   "execution_count": 194,
   "metadata": {},
   "outputs": [],
   "source": [
    "regular_agent = Ollama(model = \"llama3.1\", temperature = 0.5)\n"
   ]
  },
  {
   "cell_type": "code",
   "execution_count": 33,
   "metadata": {},
   "outputs": [
    {
     "name": "stdout",
     "output_type": "stream",
     "text": [
      "Based on the provided output dataframe, here are the top 5 users:\n",
      "\n",
      "**Top 5 Users:**\n",
      "\n",
      "1. **calvisitor-10-105-163-9**: This user appears in all 5 rows of the dataframe.\n",
      "2. None other user appears more than once.\n",
      "\n",
      "Note that there is only one unique user value (\"calvisitor-10-105-163-9\") across all rows, so it is the top user by a significant margin!\n"
     ]
    }
   ],
   "source": [
    "aa1 = aa.split('\\n')\n",
    "for i in aa1:\n",
    "    print(i)"
   ]
  },
  {
   "cell_type": "code",
   "execution_count": 37,
   "metadata": {},
   "outputs": [
    {
     "name": "stdout",
     "output_type": "stream",
     "text": [
      "{'type': 'number', 'value': 38}\n"
     ]
    }
   ],
   "source": [
    "query1 = \"Count the unique user output it in a dataframe\"\n",
    "a1, b1 = agent(query1)"
   ]
  },
  {
   "cell_type": "code",
   "execution_count": 71,
   "metadata": {},
   "outputs": [],
   "source": [
    "regular_agent = Ollama(model = \"llama3.1\", temperature = 0)\n",
    "aa2= regular_agent.invoke(f'Here is the question: {query1}: Here is the output: {a1}. Based on the output summarise it using the question given. Answer should be to the point')"
   ]
  },
  {
   "cell_type": "code",
   "execution_count": 72,
   "metadata": {},
   "outputs": [
    {
     "data": {
      "text/plain": [
       "'There are 38 unique users.'"
      ]
     },
     "execution_count": 72,
     "metadata": {},
     "output_type": "execute_result"
    }
   ],
   "source": [
    "aa2"
   ]
  },
  {
   "cell_type": "code",
   "execution_count": 121,
   "metadata": {},
   "outputs": [
    {
     "data": {
      "image/png": "[encoded data removed]",
      "text/plain": [
       "<Figure size 1000x800 with 1 Axes>"
      ]
     },
     "metadata": {},
     "output_type": "display_data"
    }
   ],
   "source": [
    "query3 = \"Give me the count of the unique users together with the users name in a dataframe\"\n",
    "a3, b3 = agent(query3)"
   ]
  },
  {
   "cell_type": "code",
   "execution_count": 77,
   "metadata": {},
   "outputs": [],
   "source": [
    "regular_agent = Ollama(model = \"llama3.1\", temperature = 0)\n",
    "aa3= regular_agent.invoke(f'Here is the question: {query3}: Here is the output: {a3}. Based on the output summarise it using the question given. Answer should be to the point')"
   ]
  },
  {
   "cell_type": "code",
   "execution_count": 88,
   "metadata": {},
   "outputs": [
    {
     "name": "stderr",
     "output_type": "stream",
     "text": [
      "python(5523) MallocStackLogging: can't turn off malloc stack logging because it was not enabled.\n",
      "python(5562) MallocStackLogging: can't turn off malloc stack logging because it was not enabled.\n"
     ]
    },
    {
     "data": {
      "image/png": "[encoded data removed]",
      "text/plain": [
       "<Figure size 640x480 with 1 Axes>"
      ]
     },
     "metadata": {},
     "output_type": "display_data"
    }
   ],
   "source": [
    "query4 = \"Plot a graph of: Give me the count of the unique users together with the users name, \"\n",
    "a4, b4 = agent(query4)"
   ]
  },
  {
   "cell_type": "code",
   "execution_count": 90,
   "metadata": {},
   "outputs": [
    {
     "data": {
      "text/plain": [
       "'plot'"
      ]
     },
     "execution_count": 90,
     "metadata": {},
     "output_type": "execute_result"
    }
   ],
   "source": [
    "get_extracted_type(b4.last_code_executed)"
   ]
  },
  {
   "cell_type": "code",
   "execution_count": 102,
   "metadata": {},
   "outputs": [
    {
     "name": "stderr",
     "output_type": "stream",
     "text": [
      "Traceback (most recent call last):\n",
      "  File \"/Users/chuapk/.pyenv/versions/3.11.5/envs/jy/lib/python3.11/site-packages/pandasai/pipelines/chat/generate_chat_pipeline.py\", line 335, in run\n",
      "    ).run(input)\n",
      "      ^^^^^^^^^^\n",
      "  File \"/Users/chuapk/.pyenv/versions/3.11.5/envs/jy/lib/python3.11/site-packages/pandasai/pipelines/pipeline.py\", line 137, in run\n",
      "    raise e\n",
      "  File \"/Users/chuapk/.pyenv/versions/3.11.5/envs/jy/lib/python3.11/site-packages/pandasai/pipelines/pipeline.py\", line 101, in run\n",
      "    step_output = logic.execute(\n",
      "                  ^^^^^^^^^^^^^^\n",
      "  File \"/Users/chuapk/.pyenv/versions/3.11.5/envs/jy/lib/python3.11/site-packages/pandasai/pipelines/chat/code_execution.py\", line 113, in execute\n",
      "    raise e\n",
      "  File \"/Users/chuapk/.pyenv/versions/3.11.5/envs/jy/lib/python3.11/site-packages/pandasai/pipelines/chat/code_execution.py\", line 85, in execute\n",
      "    result = self.execute_code(code_to_run, code_context)\n",
      "             ^^^^^^^^^^^^^^^^^^^^^^^^^^^^^^^^^^^^^^^^^^^^\n",
      "  File \"/Users/chuapk/.pyenv/versions/3.11.5/envs/jy/lib/python3.11/site-packages/pandasai/pipelines/chat/code_execution.py\", line 171, in execute_code\n",
      "    exec(code, environment)\n",
      "  File \"<string>\", line 1, in <module>\n",
      "  File \"/Users/chuapk/.pyenv/versions/3.11.5/envs/jy/lib/python3.11/site-packages/pandas/util/_decorators.py\", line 211, in wrapper\n",
      "    return func(*args, **kwargs)\n",
      "           ^^^^^^^^^^^^^^^^^^^^^\n",
      "  File \"/Users/chuapk/.pyenv/versions/3.11.5/envs/jy/lib/python3.11/site-packages/pandas/util/_decorators.py\", line 331, in wrapper\n",
      "    return func(*args, **kwargs)\n",
      "           ^^^^^^^^^^^^^^^^^^^^^\n",
      "  File \"/Users/chuapk/.pyenv/versions/3.11.5/envs/jy/lib/python3.11/site-packages/pandas/io/parsers/readers.py\", line 950, in read_csv\n",
      "    return _read(filepath_or_buffer, kwds)\n",
      "           ^^^^^^^^^^^^^^^^^^^^^^^^^^^^^^^\n",
      "  File \"/Users/chuapk/.pyenv/versions/3.11.5/envs/jy/lib/python3.11/site-packages/pandas/io/parsers/readers.py\", line 605, in _read\n",
      "    parser = TextFileReader(filepath_or_buffer, **kwds)\n",
      "             ^^^^^^^^^^^^^^^^^^^^^^^^^^^^^^^^^^^^^^^^^^\n",
      "  File \"/Users/chuapk/.pyenv/versions/3.11.5/envs/jy/lib/python3.11/site-packages/pandas/io/parsers/readers.py\", line 1442, in __init__\n",
      "    self._engine = self._make_engine(f, self.engine)\n",
      "                   ^^^^^^^^^^^^^^^^^^^^^^^^^^^^^^^^^\n",
      "  File \"/Users/chuapk/.pyenv/versions/3.11.5/envs/jy/lib/python3.11/site-packages/pandas/io/parsers/readers.py\", line 1735, in _make_engine\n",
      "    self.handles = get_handle(\n",
      "                   ^^^^^^^^^^^\n",
      "  File \"/Users/chuapk/.pyenv/versions/3.11.5/envs/jy/lib/python3.11/site-packages/pandas/io/common.py\", line 856, in get_handle\n",
      "    handle = open(\n",
      "             ^^^^^\n",
      "FileNotFoundError: [Errno 2] No such file or directory: 'path/to/dataframe.csv'\n"
     ]
    },
    {
     "data": {
      "text/plain": [
       "<Figure size 1000x600 with 0 Axes>"
      ]
     },
     "metadata": {},
     "output_type": "display_data"
    }
   ],
   "source": [
    "query5 = \"Plot a graph of: Give me the count of the unique users together with the users name, make the axis and ticks font-size = 5\"\n",
    "a5, b5 = agent(query5)"
   ]
  },
  {
   "cell_type": "code",
   "execution_count": 113,
   "metadata": {},
   "outputs": [],
   "source": [
    "code = b5.last_code_generated"
   ]
  },
  {
   "cell_type": "markdown",
   "metadata": {},
   "source": [
    "<H1>Refine Dataframe</H1>"
   ]
  },
  {
   "cell_type": "code",
   "execution_count": 131,
   "metadata": {},
   "outputs": [
    {
     "data": {
      "text/plain": [
       "'Here is a Python code snippet that uses pandas to create a DataFrame from the provided data and then counts the unique users together with their names:\\n\\n```python\\nimport pandas as pd\\n\\n# Create a dictionary from the provided data\\ndata = {\\n    \"User\": [\\n        \"authorMacBook-Pro\",\\n        \"calvisitor-10-105-162-105\",\\n        \"calvisitor-10-105-162-178\",\\n        \"calvisitor-10-105-160-95\",\\n        \"calvisitor-10-105-163-202\",\\n        \"calvisitor-10-105-160-85\",\\n        \"airbears2-10-142-110-255\",\\n        \"calvisitor-10-105-160-237\",\\n        \"calvisitor-10-105-160-184\",\\n        \"calvisitor-10-105-163-10\",\\n        \"calvisitor-10-105-160-205\",\\n        \"calvisitor-10-105-162-124\",\\n        \"calvisitor-10-105-162-32\",\\n        \"calvisitor-10-105-163-253\",\\n        \"calvisitor-10-105-160-179\",\\n        \"calvisitor-10-105-160-226\",\\n        \"calvisitor-10-105-161-225\",\\n        \"airbears2-10-142-108-38\",\\n        \"calvisitor-10-105-162-107\",\\n        \"calvisitor-10-105-160-37\",\\n        \"calvisitor-10-105-160-210\",\\n        \"calvisitor-10-105-162-98\",\\n        \"calvisitor-10-105-160-22\",\\n        \"calvisitor-10-105-160-47\",\\n        \"calvisitor-10-105-161-176\",\\n        \"calvisitor-10-105-160-181\",\\n        \"calvisitor-10-105-163-147\",\\n        \"calvisitor-10-105-162-228\",\\n        \"calvisitor-10-105-163-168\",\\n        \"calvisitor-10-105-163-9\",\\n        \"calvisitor-10-105-162-175\",\\n        \"calvisitor-10-105-162-108\",\\n        \"calvisitor-10-105-162-138\",\\n        \"calvisitor-10-105-162-211\",\\n        \"calvisitor-10-105-162-81\",\\n        \"calvisitor-10-105-163-28\",\\n        \"calvisitor-10-105-161-231\",\\n        \"calvisitor-10-105-161-77\"\\n    ],\\n    \"Count\": [\\n        554,\\n        338,\\n        256,\\n        140,\\n        137,\\n        83,\\n        79,\\n        53,\\n        39,\\n        34,\\n        30,\\n        29,\\n        27,\\n        26,\\n        19,\\n        17,\\n        16,\\n        15,\\n        13,\\n        12,\\n        9,\\n        8,\\n        7,\\n        6,\\n        6,\\n        6,\\n        5,\\n        5,\\n        4,\\n        4,\\n        4,\\n        3,\\n        3,\\n        3,\\n        2,\\n        2\\n    ]\\n}\\n\\n# Create a DataFrame from the dictionary\\ndf = pd.DataFrame(data)\\n\\n# Count unique users together with their names\\nunique_users = df.groupby(\"User\").size().reset_index(name=\"Count\")\\n\\nprint(unique_users)\\n```\\n\\nOutput:\\n\\n| User                         |   Count |\\n|:-------------------------------|--------:|\\n| authorMacBook-Pro              |      554 |\\n| calvisitor-10-105-162-105     |      338 |\\n| calvisitor-10-105-162-178     |      256 |\\n| calvisitor-10-105-160-95      |      140 |\\n| calvisitor-10-105-163-202     |      137 |\\n| calvisitor-10-105-160-85      |       83 |\\n| airbears2-10-142-110-255      |       79 |\\n| calvisitor-10-105-160-237     |       53 |\\n| calvisitor-10-105-160-184     |       39 |\\n| calvisitor-10-105-163-10      |       34 |\\n| calvisitor-10-105-160-205     |       30 |\\n| calvisitor-10-105-162-124     |       29 |\\n| calvisitor-10-105-162-32      |       27 |\\n| calvisitor-10-105-163-253     |       26 |\\n| calvisitor-10-105-160-179     |       19 |\\n| calvisitor-10-105-160-226     |       17 |\\n| calvisitor-10-105-161-225     |       16 |\\n| airbears2-10-142-108-38       |       15 |\\n| calvisitor-10-105-162-107     |       13 |\\n| calvisitor-10-105-160-37      |       12 |\\n| calvisitor-10-105-160-210     |        9 |\\n| calvisitor-10-105-162-98      |        8 |\\n| calvisitor-10-105-160-22      |        7 |\\n| calvisitor-10-105-160-47      |        6 |\\n| calvisitor-10-105-161-176     |        6 |\\n| calvisitor-10-105-160-181     |        6 |\\n| calvisitor-10-105-163-147     |        5 |\\n| calvisitor-10-105-162-228     |        5 |\\n| calvisitor-10-105-163-168     |        4 |\\n| calvisitor-10-105-163-9       |        4 |\\n| calvisitor-10-105-162-175     |        4 |\\n| calvisitor-10-105-162-108     |        4 |\\n| calvisitor-10-105-162-138     |        3 |\\n| calvisitor-10-105-162-211     |        3 |\\n| calvisitor-10-105-162-81      |        3 |\\n| calvisitor-10-105-163-28      |        2 |\\n| calvisitor-10-105-161-231     |        2 |\\n| calvisitor-10-105-161-77      |        2 |\\n\\nThis code creates a DataFrame from the provided dictionary, then uses the `groupby` function to group the data by the \"User\" column and count the number of occurrences for each user. The result is a new DataFrame with two columns: \"User\" and \"Count\".'"
      ]
     },
     "execution_count": 131,
     "metadata": {},
     "output_type": "execute_result"
    }
   ],
   "source": [
    "regular_agent.invoke(f'Question:{query3}, Output:{a3}. Summarise the result based on the given question')"
   ]
  },
  {
   "cell_type": "code",
   "execution_count": 198,
   "metadata": {},
   "outputs": [
    {
     "name": "stdout",
     "output_type": "stream",
     "text": [
      "Here is a summary:\n",
      "\n",
      "**Unique Users Count and Name**\n",
      "\n",
      "| User               | Count |\n",
      "|--------------------|-------|\n",
      "| authorMacBook-Pro    | 554   |\n",
      "| calvisitor-10-105... | 338   |\n",
      "| ...                 | ...   |\n",
      "\n",
      "There are **2 unique users**: `authorMacBook-Pro` with 554 counts, and `calvisitor-10-105...` (and others) with varying counts.\n"
     ]
    }
   ],
   "source": [
    "ans =regular_agent.invoke(f'Here is the question {query3}\\n Here is the answer: {a3}\\n Are you able to summarise it, answer to the point')\n",
    "ans_list = ans.split('\\n')\n",
    "for i in ans_list:\n",
    "    print(i)"
   ]
  },
  {
   "cell_type": "markdown",
   "metadata": {},
   "source": [
    "<H1>Refine Plot</H1>"
   ]
  },
  {
   "cell_type": "code",
   "execution_count": 115,
   "metadata": {},
   "outputs": [
    {
     "name": "stderr",
     "output_type": "stream",
     "text": [
      "python(13724) MallocStackLogging: can't turn off malloc stack logging because it was not enabled.\n",
      "python(13763) MallocStackLogging: can't turn off malloc stack logging because it was not enabled.\n"
     ]
    },
    {
     "data": {
      "text/plain": [
       "'/Users/chuapk/aa/enhancement-pandasAI/exports/charts/temp_chart.png'"
      ]
     },
     "execution_count": 115,
     "metadata": {},
     "output_type": "execute_result"
    },
    {
     "data": {
      "image/png": "[encoded data removed]",
      "text/plain": [
       "<Figure size 1000x800 with 1 Axes>"
      ]
     },
     "metadata": {},
     "output_type": "display_data"
    }
   ],
   "source": [
    "b5.chat(f\"refine this code: {code} use plt.xticks(rotation=45, ha='right', fontsize=6)\")"
   ]
  },
  {
   "cell_type": "code",
   "execution_count": 87,
   "metadata": {},
   "outputs": [
    {
     "name": "stdout",
     "output_type": "stream",
     "text": [
      "Based on the provided output dataframe, here are the top 5 users:\n",
      "\n",
      "**Top 5 Users:**\n",
      "\n",
      "1. **calvisitor-10-105-163-9**: This user appears in all 5 rows of the dataframe.\n",
      "2. None other user appears more than once.\n",
      "\n",
      "Note that there is only one unique user value (\"calvisitor-10-105-163-9\") across all rows, so it is the top user by a significant margin!\n",
      "\n",
      "[NEXT]\n",
      "\n",
      "There are 38 unique users.\n",
      "\n",
      "[NEXT]\n",
      "\n",
      "Here is a summary of the unique users together with their count:\n",
      "\n",
      "* authorMacBook-Pro: 554\n",
      "* airbears2-10-142-108-38: 15\n",
      "* airbears2-10-142-110-255: 79\n",
      "* calvisitor-10-105-160-179: 19\n",
      "* ... (and so on, with a total of 37 unique users)\n",
      "\n",
      "[NEXT]\n",
      "\n"
     ]
    }
   ],
   "source": [
    "aa_final = [i.split('\\n') for i in [aa,aa2,aa3]]\n",
    "for i in aa_final:\n",
    "    for j in i:\n",
    "        print(j)\n",
    "    print(\"\\n[NEXT]\\n\")"
   ]
  },
  {
   "cell_type": "code",
   "execution_count": 64,
   "metadata": {},
   "outputs": [
    {
     "data": {
      "text/plain": [
       "'dataframe'"
      ]
     },
     "execution_count": 64,
     "metadata": {},
     "output_type": "execute_result"
    }
   ],
   "source": [
    "c= b.last_code_executed\n",
    "import re\n",
    "import ast\n",
    "\n",
    "get_extracted_type(\"result = {'type': 'dataframe', 'value': dfs[0].sort_values(by='User', ascending=False).head(5)}\")\n"
   ]
  },
  {
   "cell_type": "markdown",
   "metadata": {},
   "source": [
    "<H1>Correlation Analysis</H1>"
   ]
  },
  {
   "cell_type": "code",
   "execution_count": 224,
   "metadata": {},
   "outputs": [
    {
     "name": "stdout",
     "output_type": "stream",
     "text": [
      "User       EventId    0.057535\n",
      "Component  EventId    0.056974\n",
      "           User      -0.093459\n",
      "dtype: float64\n",
      "User       EventId    0.057535\n",
      "Component  EventId    0.056974\n",
      "           User      -0.093459\n",
      "dtype: float64\n",
      "User       EventId    0.057535\n",
      "Component  EventId    0.056974\n",
      "           User      -0.093459\n",
      "dtype: float64\n",
      "User       EventId    0.057535\n",
      "Component  EventId    0.056974\n",
      "           User      -0.093459\n",
      "dtype: float64\n"
     ]
    },
    {
     "name": "stderr",
     "output_type": "stream",
     "text": [
      "Traceback (most recent call last):\n",
      "  File \"/Users/chuapk/.pyenv/versions/3.11.5/envs/jy/lib/python3.11/site-packages/pandasai/pipelines/chat/generate_chat_pipeline.py\", line 335, in run\n",
      "    ).run(input)\n",
      "      ^^^^^^^^^^\n",
      "  File \"/Users/chuapk/.pyenv/versions/3.11.5/envs/jy/lib/python3.11/site-packages/pandasai/pipelines/pipeline.py\", line 137, in run\n",
      "    raise e\n",
      "  File \"/Users/chuapk/.pyenv/versions/3.11.5/envs/jy/lib/python3.11/site-packages/pandasai/pipelines/pipeline.py\", line 101, in run\n",
      "    step_output = logic.execute(\n",
      "                  ^^^^^^^^^^^^^^\n",
      "  File \"/Users/chuapk/.pyenv/versions/3.11.5/envs/jy/lib/python3.11/site-packages/pandasai/pipelines/chat/code_execution.py\", line 113, in execute\n",
      "    raise e\n",
      "  File \"/Users/chuapk/.pyenv/versions/3.11.5/envs/jy/lib/python3.11/site-packages/pandasai/pipelines/chat/code_execution.py\", line 85, in execute\n",
      "    result = self.execute_code(code_to_run, code_context)\n",
      "             ^^^^^^^^^^^^^^^^^^^^^^^^^^^^^^^^^^^^^^^^^^^^\n",
      "  File \"/Users/chuapk/.pyenv/versions/3.11.5/envs/jy/lib/python3.11/site-packages/pandasai/pipelines/chat/code_execution.py\", line 171, in execute_code\n",
      "    exec(code, environment)\n",
      "  File \"<string>\", line 13, in <module>\n",
      "NameError: name 'sns' is not defined\n"
     ]
    },
    {
     "data": {
      "text/plain": [
       "\"Unfortunately, I was not able to answer your question, because of the following error:\\n\\nname 'sns' is not defined\\n\""
      ]
     },
     "execution_count": 224,
     "metadata": {},
     "output_type": "execute_result"
    },
    {
     "data": {
      "text/plain": [
       "<Figure size 1000x800 with 0 Axes>"
      ]
     },
     "metadata": {},
     "output_type": "display_data"
    },
    {
     "data": {
      "text/plain": [
       "<Figure size 1000x800 with 0 Axes>"
      ]
     },
     "metadata": {},
     "output_type": "display_data"
    },
    {
     "data": {
      "text/plain": [
       "<Figure size 1000x800 with 0 Axes>"
      ]
     },
     "metadata": {},
     "output_type": "display_data"
    },
    {
     "data": {
      "text/plain": [
       "<Figure size 1000x800 with 0 Axes>"
      ]
     },
     "metadata": {},
     "output_type": "display_data"
    }
   ],
   "source": [
    "from pandasai.skills import skill\n",
    "from pandasai.responses.streamlit_response import StreamlitResponse\n",
    "from langchain_community.llms import Ollama\n",
    "import re\n",
    "llm_code = Ollama(model = 'llama3.1', temperature = 0)\n",
    "pandas_ai_agent = Agent(\n",
    "    df, \n",
    "    config = {\n",
    "        \"llm\" : llm_code,\n",
    "        \"enable_cache\" : False,\n",
    "        \"response_parser\": StreamlitResponse,\n",
    "        'verbose': True\n",
    "        \n",
    "})\n",
    "@skill\n",
    "def corr_analysis(column_name,df, top_n = 10):\n",
    "    \"\"\"\n",
    "    Perform correlation analysis to output the correlation given the data.\n",
    "    Args:\n",
    "        column_name (list[str]): column name\n",
    "        top_n: int\n",
    "\n",
    "    \"\"\"\n",
    "\n",
    "    encode_data = pd.get_dummies(df[['Component', 'User', 'EventId']], drop_first=True)\n",
    "    correlation_df = encode_data.corr()\n",
    "    #sns.heatmap(correlation_df, yticklabels=False, xticklabels=False,cmap= 'Blues')\n",
    "    correlation_matrix_unstacked = correlation_df.unstack().sort_values(ascending=False)\n",
    "    top_correlations = correlation_matrix_unstacked[correlation_matrix_unstacked!= 1].drop_duplicates()\n",
    "    print(top_correlations.head(top_n))\n",
    "\n",
    "# pandas_ai_agent.add_skills(corr_analysis)\n",
    "prompt = '''\n",
    "When asked about correlation analysis:\n",
    "Used enhance the code below to answer the question. It not specified give the top 10 corrlation <top_n> =10:\n",
    "```python\n",
    "encode_data = pd.get_dummies(df[['Component', 'User', 'EventId']], drop_first=True)\n",
    "correlation_df = encode_data.corr()\n",
    "#sns.heatmap(correlation_df, yticklabels=False, xticklabels=False,cmap= 'Blues')\n",
    "correlation_matrix_unstacked = correlation_df.unstack().sort_values(ascending=False)\n",
    "top_correlations = correlation_matrix_unstacked[correlation_matrix_unstacked!= 1].drop_duplicates()\n",
    "print(top_correlations.head(<top_n>))\n",
    "```\n",
    "'''\n",
    "pandas_ai_agent.chat(\"Question: perform a correlation analysis given the data\"+prompt )\n",
    "    "
   ]
  },
  {
   "cell_type": "code",
   "execution_count": 200,
   "metadata": {},
   "outputs": [
    {
     "name": "stderr",
     "output_type": "stream",
     "text": [
      "<string>:2: FutureWarning: The default value of numeric_only in DataFrame.corr is deprecated. In a future version, it will default to False. Select only valid columns or specify the value of numeric_only to silence this warning.\n",
      "<string>:2: FutureWarning: The default value of numeric_only in DataFrame.corr is deprecated. In a future version, it will default to False. Select only valid columns or specify the value of numeric_only to silence this warning.\n",
      "<string>:2: FutureWarning: The default value of numeric_only in DataFrame.corr is deprecated. In a future version, it will default to False. Select only valid columns or specify the value of numeric_only to silence this warning.\n",
      "Traceback (most recent call last):\n",
      "  File \"/Users/chuapk/.pyenv/versions/3.11.5/envs/jy/lib/python3.11/site-packages/pandasai/pipelines/chat/generate_chat_pipeline.py\", line 335, in run\n",
      "    ).run(input)\n",
      "      ^^^^^^^^^^\n",
      "  File \"/Users/chuapk/.pyenv/versions/3.11.5/envs/jy/lib/python3.11/site-packages/pandasai/pipelines/pipeline.py\", line 137, in run\n",
      "    raise e\n",
      "  File \"/Users/chuapk/.pyenv/versions/3.11.5/envs/jy/lib/python3.11/site-packages/pandasai/pipelines/pipeline.py\", line 101, in run\n",
      "    step_output = logic.execute(\n",
      "                  ^^^^^^^^^^^^^^\n",
      "  File \"/Users/chuapk/.pyenv/versions/3.11.5/envs/jy/lib/python3.11/site-packages/pandasai/pipelines/chat/code_execution.py\", line 113, in execute\n",
      "    raise e\n",
      "  File \"/Users/chuapk/.pyenv/versions/3.11.5/envs/jy/lib/python3.11/site-packages/pandasai/pipelines/chat/code_execution.py\", line 85, in execute\n",
      "    result = self.execute_code(code_to_run, code_context)\n",
      "             ^^^^^^^^^^^^^^^^^^^^^^^^^^^^^^^^^^^^^^^^^^^^\n",
      "  File \"/Users/chuapk/.pyenv/versions/3.11.5/envs/jy/lib/python3.11/site-packages/pandasai/pipelines/chat/code_execution.py\", line 175, in execute_code\n",
      "    raise NoResultFoundError(\"No result returned\")\n",
      "pandasai.exceptions.NoResultFoundError: No result returned\n"
     ]
    },
    {
     "data": {
      "text/plain": [
       "<Figure size 1200x900 with 0 Axes>"
      ]
     },
     "metadata": {},
     "output_type": "display_data"
    },
    {
     "data": {
      "text/plain": [
       "<Figure size 1200x900 with 0 Axes>"
      ]
     },
     "metadata": {},
     "output_type": "display_data"
    },
    {
     "data": {
      "text/plain": [
       "<Figure size 1200x900 with 0 Axes>"
      ]
     },
     "metadata": {},
     "output_type": "display_data"
    }
   ],
   "source": [
    "query6 = \"perform a correlation analysis given the data\"\n",
    "a6, b6 = agent(query6)\n"
   ]
  },
  {
   "cell_type": "code",
   "execution_count": 203,
   "metadata": {},
   "outputs": [
    {
     "data": {
      "text/plain": [
       "\"df = dfs[0]\\ncorr_matrix = df.corr()\\nplt.figure(figsize=(12, 9))\\nsns.heatmap(corr_matrix, annot=True, cmap='coolwarm')\\nplt.tight_layout()\\nplt.show()\\nresult = {'type': 'plot', 'value': '/Users/chuapk/aa/enhancement-pandasAI/exports/charts/temp_chart.png'}\""
      ]
     },
     "execution_count": 203,
     "metadata": {},
     "output_type": "execute_result"
    }
   ],
   "source": [
    "b6.last_code_executed"
   ]
  },
  {
   "cell_type": "code",
   "execution_count": 207,
   "metadata": {},
   "outputs": [
    {
     "name": "stderr",
     "output_type": "stream",
     "text": [
      "/var/folders/lx/851qvbxs21lffwfyc1pptf6c0000gn/T/ipykernel_26631/721057115.py:3: FutureWarning: The default value of numeric_only in DataFrame.corr is deprecated. In a future version, it will default to False. Select only valid columns or specify the value of numeric_only to silence this warning.\n",
      "  corr_matrix = df.corr()\n"
     ]
    },
    {
     "data": {
      "text/html": [
       "<div>\n",
       "<style scoped>\n",
       "    .dataframe tbody tr th:only-of-type {\n",
       "        vertical-align: middle;\n",
       "    }\n",
       "\n",
       "    .dataframe tbody tr th {\n",
       "        vertical-align: top;\n",
       "    }\n",
       "\n",
       "    .dataframe thead th {\n",
       "        text-align: right;\n",
       "    }\n",
       "</style>\n",
       "<table border=\"1\" class=\"dataframe\">\n",
       "  <thead>\n",
       "    <tr style=\"text-align: right;\">\n",
       "      <th></th>\n",
       "      <th>LineId</th>\n",
       "      <th>User</th>\n",
       "      <th>Component</th>\n",
       "      <th>PID</th>\n",
       "      <th>Address</th>\n",
       "      <th>Content</th>\n",
       "      <th>EventId</th>\n",
       "      <th>EventTemplate</th>\n",
       "      <th>Combined</th>\n",
       "      <th>Datetime</th>\n",
       "    </tr>\n",
       "  </thead>\n",
       "  <tbody>\n",
       "    <tr>\n",
       "      <th>0</th>\n",
       "      <td>1</td>\n",
       "      <td>calvisitor-10-105-160-95</td>\n",
       "      <td>kernel</td>\n",
       "      <td>0</td>\n",
       "      <td>NaN</td>\n",
       "      <td>IOThunderboltSwitch&lt;0&gt;(0x0)::listenerCallback ...</td>\n",
       "      <td>E252</td>\n",
       "      <td>IOThunderboltSwitch&lt;&lt;*&gt;&gt;(&lt;*&gt;)::listenerCallbac...</td>\n",
       "      <td>Jul 1 09:00:55</td>\n",
       "      <td>1900-07-01 09:00:55</td>\n",
       "    </tr>\n",
       "    <tr>\n",
       "      <th>1</th>\n",
       "      <td>2</td>\n",
       "      <td>calvisitor-10-105-160-95</td>\n",
       "      <td>com.apple.CDScheduler</td>\n",
       "      <td>43</td>\n",
       "      <td>NaN</td>\n",
       "      <td>Thermal pressure state: 1 Memory pressure stat...</td>\n",
       "      <td>E323</td>\n",
       "      <td>Thermal pressure state: &lt;*&gt; Memory pressure st...</td>\n",
       "      <td>Jul 1 09:01:05</td>\n",
       "      <td>1900-07-01 09:01:05</td>\n",
       "    </tr>\n",
       "    <tr>\n",
       "      <th>2</th>\n",
       "      <td>3</td>\n",
       "      <td>calvisitor-10-105-160-95</td>\n",
       "      <td>QQ</td>\n",
       "      <td>10018</td>\n",
       "      <td>NaN</td>\n",
       "      <td>FA||Url||taskID[2019352994] dealloc</td>\n",
       "      <td>E216</td>\n",
       "      <td>FA||Url||taskID[&lt;*&gt;] dealloc</td>\n",
       "      <td>Jul 1 09:01:06</td>\n",
       "      <td>1900-07-01 09:01:06</td>\n",
       "    </tr>\n",
       "    <tr>\n",
       "      <th>3</th>\n",
       "      <td>4</td>\n",
       "      <td>calvisitor-10-105-160-95</td>\n",
       "      <td>kernel</td>\n",
       "      <td>0</td>\n",
       "      <td>NaN</td>\n",
       "      <td>ARPT: 620701.011328: AirPort_Brcm43xx::syncPow...</td>\n",
       "      <td>E128</td>\n",
       "      <td>ARPT: &lt;*&gt;.&lt;*&gt;: AirPort_&lt;*&gt;::syncPowerState: WW...</td>\n",
       "      <td>Jul 1 09:02:26</td>\n",
       "      <td>1900-07-01 09:02:26</td>\n",
       "    </tr>\n",
       "    <tr>\n",
       "      <th>4</th>\n",
       "      <td>5</td>\n",
       "      <td>authorMacBook-Pro</td>\n",
       "      <td>kernel</td>\n",
       "      <td>0</td>\n",
       "      <td>NaN</td>\n",
       "      <td>ARPT: 620702.879952: AirPort_Brcm43xx::platfor...</td>\n",
       "      <td>E124</td>\n",
       "      <td>ARPT: &lt;*&gt;.&lt;*&gt;: AirPort_&lt;*&gt;::platformWoWEnable:...</td>\n",
       "      <td>Jul 1 09:02:26</td>\n",
       "      <td>1900-07-01 09:02:26</td>\n",
       "    </tr>\n",
       "    <tr>\n",
       "      <th>...</th>\n",
       "      <td>...</td>\n",
       "      <td>...</td>\n",
       "      <td>...</td>\n",
       "      <td>...</td>\n",
       "      <td>...</td>\n",
       "      <td>...</td>\n",
       "      <td>...</td>\n",
       "      <td>...</td>\n",
       "      <td>...</td>\n",
       "      <td>...</td>\n",
       "    </tr>\n",
       "    <tr>\n",
       "      <th>1995</th>\n",
       "      <td>1996</td>\n",
       "      <td>calvisitor-10-105-162-124</td>\n",
       "      <td>kernel</td>\n",
       "      <td>0</td>\n",
       "      <td>NaN</td>\n",
       "      <td>ARPT: 790564.863081: wl0: MDNS: IPV6 Addr: 260...</td>\n",
       "      <td>E142</td>\n",
       "      <td>ARPT: &lt;*&gt;.&lt;*&gt;: wl0: MDNS: IPV6 Addr: &lt;*&gt;</td>\n",
       "      <td>Jul 8 07:32:03</td>\n",
       "      <td>1900-07-08 07:32:03</td>\n",
       "    </tr>\n",
       "    <tr>\n",
       "      <th>1996</th>\n",
       "      <td>1997</td>\n",
       "      <td>calvisitor-10-105-162-124</td>\n",
       "      <td>kernel</td>\n",
       "      <td>0</td>\n",
       "      <td>NaN</td>\n",
       "      <td>USBMSC Identifier (non-unique): 000000000820 0...</td>\n",
       "      <td>E331</td>\n",
       "      <td>USBMSC Identifier (non-unique): &lt;*&gt;</td>\n",
       "      <td>Jul 8 07:43:38</td>\n",
       "      <td>1900-07-08 07:43:38</td>\n",
       "    </tr>\n",
       "    <tr>\n",
       "      <th>1997</th>\n",
       "      <td>1998</td>\n",
       "      <td>calvisitor-10-105-162-124</td>\n",
       "      <td>kernel</td>\n",
       "      <td>0</td>\n",
       "      <td>NaN</td>\n",
       "      <td>AppleCamIn::systemWakeCall - messageType = 0xE...</td>\n",
       "      <td>E120</td>\n",
       "      <td>AppleCamIn::systemWakeCall - messageType = &lt;*&gt;</td>\n",
       "      <td>Jul 8 07:57:11</td>\n",
       "      <td>1900-07-08 07:57:11</td>\n",
       "    </tr>\n",
       "    <tr>\n",
       "      <th>1998</th>\n",
       "      <td>1999</td>\n",
       "      <td>calvisitor-10-105-162-124</td>\n",
       "      <td>kernel</td>\n",
       "      <td>0</td>\n",
       "      <td>NaN</td>\n",
       "      <td>Wake reason: RTC (Alarm)</td>\n",
       "      <td>E338</td>\n",
       "      <td>Wake reason: RTC (Alarm)</td>\n",
       "      <td>Jul 8 08:10:46</td>\n",
       "      <td>1900-07-08 08:10:46</td>\n",
       "    </tr>\n",
       "    <tr>\n",
       "      <th>1999</th>\n",
       "      <td>2000</td>\n",
       "      <td>calvisitor-10-105-162-124</td>\n",
       "      <td>kernel</td>\n",
       "      <td>0</td>\n",
       "      <td>NaN</td>\n",
       "      <td>AppleCamIn::wakeEventHandlerThread</td>\n",
       "      <td>E121</td>\n",
       "      <td>AppleCamIn::wakeEventHandlerThread</td>\n",
       "      <td>Jul 8 08:10:46</td>\n",
       "      <td>1900-07-08 08:10:46</td>\n",
       "    </tr>\n",
       "  </tbody>\n",
       "</table>\n",
       "<p>2000 rows × 10 columns</p>\n",
       "</div>"
      ],
      "text/plain": [
       "      LineId                       User              Component    PID Address  \\\n",
       "0          1   calvisitor-10-105-160-95                 kernel      0     NaN   \n",
       "1          2   calvisitor-10-105-160-95  com.apple.CDScheduler     43     NaN   \n",
       "2          3   calvisitor-10-105-160-95                     QQ  10018     NaN   \n",
       "3          4   calvisitor-10-105-160-95                 kernel      0     NaN   \n",
       "4          5          authorMacBook-Pro                 kernel      0     NaN   \n",
       "...      ...                        ...                    ...    ...     ...   \n",
       "1995    1996  calvisitor-10-105-162-124                 kernel      0     NaN   \n",
       "1996    1997  calvisitor-10-105-162-124                 kernel      0     NaN   \n",
       "1997    1998  calvisitor-10-105-162-124                 kernel      0     NaN   \n",
       "1998    1999  calvisitor-10-105-162-124                 kernel      0     NaN   \n",
       "1999    2000  calvisitor-10-105-162-124                 kernel      0     NaN   \n",
       "\n",
       "                                                Content EventId  \\\n",
       "0     IOThunderboltSwitch<0>(0x0)::listenerCallback ...    E252   \n",
       "1     Thermal pressure state: 1 Memory pressure stat...    E323   \n",
       "2                   FA||Url||taskID[2019352994] dealloc    E216   \n",
       "3     ARPT: 620701.011328: AirPort_Brcm43xx::syncPow...    E128   \n",
       "4     ARPT: 620702.879952: AirPort_Brcm43xx::platfor...    E124   \n",
       "...                                                 ...     ...   \n",
       "1995  ARPT: 790564.863081: wl0: MDNS: IPV6 Addr: 260...    E142   \n",
       "1996  USBMSC Identifier (non-unique): 000000000820 0...    E331   \n",
       "1997  AppleCamIn::systemWakeCall - messageType = 0xE...    E120   \n",
       "1998                           Wake reason: RTC (Alarm)    E338   \n",
       "1999                 AppleCamIn::wakeEventHandlerThread    E121   \n",
       "\n",
       "                                          EventTemplate        Combined  \\\n",
       "0     IOThunderboltSwitch<<*>>(<*>)::listenerCallbac...  Jul 1 09:00:55   \n",
       "1     Thermal pressure state: <*> Memory pressure st...  Jul 1 09:01:05   \n",
       "2                          FA||Url||taskID[<*>] dealloc  Jul 1 09:01:06   \n",
       "3     ARPT: <*>.<*>: AirPort_<*>::syncPowerState: WW...  Jul 1 09:02:26   \n",
       "4     ARPT: <*>.<*>: AirPort_<*>::platformWoWEnable:...  Jul 1 09:02:26   \n",
       "...                                                 ...             ...   \n",
       "1995           ARPT: <*>.<*>: wl0: MDNS: IPV6 Addr: <*>  Jul 8 07:32:03   \n",
       "1996                USBMSC Identifier (non-unique): <*>  Jul 8 07:43:38   \n",
       "1997     AppleCamIn::systemWakeCall - messageType = <*>  Jul 8 07:57:11   \n",
       "1998                           Wake reason: RTC (Alarm)  Jul 8 08:10:46   \n",
       "1999                 AppleCamIn::wakeEventHandlerThread  Jul 8 08:10:46   \n",
       "\n",
       "                Datetime  \n",
       "0    1900-07-01 09:00:55  \n",
       "1    1900-07-01 09:01:05  \n",
       "2    1900-07-01 09:01:06  \n",
       "3    1900-07-01 09:02:26  \n",
       "4    1900-07-01 09:02:26  \n",
       "...                  ...  \n",
       "1995 1900-07-08 07:32:03  \n",
       "1996 1900-07-08 07:43:38  \n",
       "1997 1900-07-08 07:57:11  \n",
       "1998 1900-07-08 08:10:46  \n",
       "1999 1900-07-08 08:10:46  \n",
       "\n",
       "[2000 rows x 10 columns]"
      ]
     },
     "execution_count": 207,
     "metadata": {},
     "output_type": "execute_result"
    }
   ],
   "source": [
    "import seaborn as sns\n",
    "import matplotlib.pyplot as plt\n",
    "corr_matrix = df.corr()\n",
    "# plt.figure(figsize=(12, 9))\n",
    "# sns.heatmap(corr_matrix, annot=True, cmap='coolwarm')\n",
    "# plt.tight_layout()\n",
    "# plt.show()\n",
    "df"
   ]
  },
  {
   "cell_type": "code",
   "execution_count": 108,
   "metadata": {},
   "outputs": [
    {
     "data": {
      "text/plain": [
       "'{\"LineId\":{\"0\":1,\"1\":2,\"2\":3},\"User\":{\"0\":\"calvisitor-10-105-160-95\",\"1\":\"calvisitor-10-105-160-95\",\"2\":\"calvisitor-10-105-160-95\"},\"Component\":{\"0\":\"kernel\",\"1\":\"com.apple.CDScheduler\",\"2\":\"QQ\"},\"PID\":{\"0\":0,\"1\":43,\"2\":10018},\"Address\":{\"0\":null,\"1\":null,\"2\":null},\"Content\":{\"0\":\"IOThunderboltSwitch<0>(0x0)::listenerCallback - Thunderbolt HPD packet for route = 0x0 port = 11 unplug = 0\",\"1\":\"Thermal pressure state: 1 Memory pressure state: 0\",\"2\":\"FA||Url||taskID[2019352994] dealloc\"},\"EventId\":{\"0\":\"E252\",\"1\":\"E323\",\"2\":\"E216\"},\"EventTemplate\":{\"0\":\"IOThunderboltSwitch<<*>>(<*>)::listenerCallback - Thunderbolt HPD packet for route = <*> port = <*> unplug = <*>\",\"1\":\"Thermal pressure state: <*> Memory pressure state: <*>\",\"2\":\"FA||Url||taskID[<*>] dealloc\"},\"Combined\":{\"0\":\"Jul 1 09:00:55\",\"1\":\"Jul 1 09:01:05\",\"2\":\"Jul 1 09:01:06\"},\"Datetime\":{\"0\":-2193317945000,\"1\":-2193317935000,\"2\":-2193317934000}}'"
      ]
     },
     "execution_count": 108,
     "metadata": {},
     "output_type": "execute_result"
    }
   ],
   "source": [
    "col = df.columns\n",
    "\n",
    "df.head(3).to_json()\n",
    "from langchain_community.llms import Ollama\n",
    "llm=Ollama(model='llama3.1', temperature =0)\n",
    "llm.invoke(f\"\"\"This is the head of the dataframe: {df.head(3).to_json()}\n",
    "Question: Based on the given data and the fact that `EventId` is an integer representation of `EventTemplate` that categorizes `Content`, determine which columns are most suitable for categorical correlation analysis. \n",
    "Choose only one column between `EventId` and `EventTemplate`to avoid redundancy. Provide your reasoning in the output format as follows:\n",
    "<Thought>: ...\n",
    "<Final answer>: ['col1', 'col2', 'col3']\"\"\")"
   ]
  },
  {
   "cell_type": "code",
   "execution_count": 133,
   "metadata": {},
   "outputs": [
    {
     "name": "stdout",
     "output_type": "stream",
     "text": [
      "[mistral]\n",
      "  <Thought> The given dataframe contains various columns, some of which are not suitable for analysis due to redundancy or lack of relevance. To select categorical variables for analysis, we should exclude the LineID column as it is simply a row identifier. Additionally, any columns related to date or time should be excluded since the focus here is on categorical variables. The Content column is also excluded because both EventId and EventTemplate already serve as identifiers for Content. Lastly, ensure that redundant or highly similar columns are not included (e.g., choose only either EventId or EventTemplate).\n",
      "   <Answer> [\"User\", \"Component\", \"PID\", \"EventId\"] \n",
      "\n"
     ]
    }
   ],
   "source": [
    "prompt=f\"\"\"This is the head of the dataframe: {df.head(10).to_json()}\\n \n",
    "Based on the given data, analyze each key and determine which categorical variables are suitable for analysis. \n",
    "- LineID is simply a row identifier and does not need to be included \n",
    "- Exclude any columns related to date or time.\n",
    "- Exclude `Content` because both `EventId` and `EventTemplate` already serve as identifiers for `Content`.\n",
    "- Ensure that redundant or highly similar columns are not included (e.g., choose only either `EventId` or `EventTemplate`).\n",
    "The final answer should be a list of the selected categorical variables in the format:\n",
    "<Thought> ...\n",
    "<Answer> [\"exact key name\", \"exact key name\", ...]\"\"\"\n",
    "\n",
    "for j in range(1):\n",
    "    for i in ['mistral']:\n",
    "        llm = Ollama(model = i, temperature  =0)\n",
    "        out = llm.invoke(prompt)\n",
    "        print(f'[{i}]\\n {out} \\n')"
   ]
  },
  {
   "cell_type": "code",
   "execution_count": 70,
   "metadata": {},
   "outputs": [],
   "source": [
    " \n",
    "from regular_agent.agent_ai import Agent_Ai\n",
    "from langchain_core.prompts import PromptTemplate\n",
    "\n",
    "agent_ai = Agent_Ai(temperature=0)\n",
    "prompt =PromptTemplate.from_template(\"\"\"\n",
    "Here are a list of example of summary type of questions:\n",
    "1.Give me a summary of the given data.\n",
    "2.Can you summarize the key points in the data?\n",
    "3.What insights can you draw from the data?\n",
    "4.Provide an overview of the main trends and patterns in the data.\n",
    "5.Summarize the relationship between the variables in this dataset.\n",
    "1.\t“What is the average value of the EventId column?”\n",
    "2.\t“Which user has the highest number of events?”\n",
    "3.\t“What is the maximum value in the Sales column?”\n",
    "4.\t“Can you filter out all rows where the EventId is greater than 100?”\n",
    "5.\t“Show me the top 5 records with the highest value.”\n",
    "\"\"\")\n",
    "# question = 'How many rows are there'\n",
    "# query_summary = f\"\"\"\n",
    "# Using the above example\n",
    "# Is this: [{question}] a type of summary question\n",
    "# <Answer> should always be a Yes or No only\"\"\"\n",
    "# out = agent_ai.query_agent(query= query_summary)\n",
    "# out"
   ]
  },
  {
   "cell_type": "code",
   "execution_count": 98,
   "metadata": {},
   "outputs": [
    {
     "name": "stdout",
     "output_type": "stream",
     "text": [
      "Here are a list of example of summary type of questions:\n",
      "<Question>Is this asking for a summary: Here are a list of example of summary type of questions: \n",
      "\n",
      "<Thought> ... Upon reviewing the examples, I notice that they all ask for a general overview or a concise representation of data. They don't specify a particular value, action, or detail.\n",
      "\n",
      "<Answer> Yes\n",
      "1.Give me a summary of the given data.\n",
      "<Thought> The question explicitly asks for a \"summary\" of the given data, which implies a high-level overview rather than a specific detail.\n",
      "\n",
      "<Answer> Yes\n",
      "2.Can you summarize the key points in the data?\n",
      "<Thought> The question explicitly asks to \"summarize\" the key points, which implies providing an overview of the main ideas. This is a clear indication that the question is asking for a summary.\n",
      "\n",
      "<Answer> Yes\n",
      "3.What insights can you draw from the data?\n",
      "<Thought> The question is asking for \"insights\" which implies a high-level overview of the data, rather than a specific value, action, or detail. It's seeking to understand what can be learned from the data, not a particular fact or outcome.\n",
      "\n",
      "<Answer> Yes\n",
      "4.Provide an overview of the main trends and patterns in the data.\n",
      "<Thought> The question is asking for an \"overview\" which implies a high-level description of the data, focusing on the main trends and patterns. This suggests that the answer should provide a general summary rather than a specific detail.\n",
      "\n",
      "<Answer> Yes\n",
      "5.Summarize the relationship between the variables in this dataset.\n",
      "<Thought> The question is explicitly asking to \"Summarize\" the relationship between variables, which implies providing an overview of the data rather than a specific detail. This suggests that the answer should provide a high-level summary of the findings.\n",
      "\n",
      "<Answer> Yes\n",
      "1.\t“What is the average value of the EventId column?”\n",
      "<Thought> The question is asking for a specific value, which is the average value of the EventId column. It's not requesting a high-level overview of the data, but rather a precise calculation.\n",
      "\n",
      "<Answer> No\n",
      "2.\t“Which user has the highest number of events?”\n",
      "<Thought> The question is asking for a specific value (the user with the highest number of events), not a general overview of the data. It's requesting a detail, which means it's not asking for a summary.\n",
      "\n",
      "<Answer> No\n",
      "3.\t“What is the maximum value in the Sales column?”\n",
      "<Thought> The question is asking for a specific value, not a general overview of the data. It's requesting the \"maximum value\" which implies a precise answer, not a summary.\n",
      "\n",
      "<Answer> No\n",
      "4.\t“Can you filter out all rows where the EventId is greater than 100?”\n",
      "<Question>Is this asking for a summary: 4.\t“Can you filter out all rows where the EventId is greater than 100?” \n",
      "\n",
      "<Thought> This question is not asking for a high-level overview of data, but rather a specific action to be taken on the data (filtering out rows). It's requesting a specific value or detail, which is \"all rows\" and \"EventId > 100\", rather than a summary.\n",
      "\n",
      "<Answer> No\n",
      "5.\t“Show me the top 5 records with the highest value.”\n",
      "<Question>Is this asking for a summary: 5.\t“Show me the top 5 records with the highest value.” \n",
      "\n",
      "<Thought> The question is asking to show specific records (top 5) and their values, which implies a detailed view of the data rather than a high-level overview.\n",
      "\n",
      "<Answer> No\n"
     ]
    }
   ],
   "source": [
    "for i in prompt.template.split('\\n'):\n",
    "    question = i\n",
    "    if len(question) < 3:\n",
    "        continue\n",
    "    print(question)\n",
    "    \n",
    "    \n",
    "    query_summary = f\"\"\"\n",
    "    You are suppose to determine if the <Question> is explicitly asking for a summary. When determining whether a question is asking for a summary, focus on whether the question is requesting a high-level overview of the data (summary), or if it’s asking for a specific value, action, or detail (non-summary) Always think before answering.\n",
    "    \n",
    "    <Question>Is this asking for a summary: {question} \n",
    "    <Thought> ...\n",
    "    <Answer> should always be a Yes or No only\n",
    "    \"\"\"\n",
    "    out = agent_ai.query_agent(query= query_summary)\n",
    "    print(out)"
   ]
  }
 ],
 "metadata": {
  "kernelspec": {
   "display_name": ".venv",
   "language": "python",
   "name": "python3"
  },
  "language_info": {
   "codemirror_mode": {
    "name": "ipython",
    "version": 3
   },
   "file_extension": ".py",
   "mimetype": "text/x-python",
   "name": "python",
   "nbconvert_exporter": "python",
   "pygments_lexer": "ipython3",
   "version": "3.10.11"
  }
 },
 "nbformat": 4,
 "nbformat_minor": 2
}
