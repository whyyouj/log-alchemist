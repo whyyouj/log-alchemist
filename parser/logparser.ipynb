{
 "cells": [
  {
   "cell_type": "code",
   "execution_count": null,
   "metadata": {},
   "outputs": [],
   "source": [
    "%pip install logparser3"
   ]
  },
  {
   "cell_type": "markdown",
   "metadata": {},
   "source": [
    "github link to logparser3:  https://github.com/logpai/logparser"
   ]
  },
  {
   "cell_type": "markdown",
   "metadata": {},
   "source": [
    "for different models usage and hyperparameters, can reference ./logparser/{model}/demo.py  in github repo"
   ]
  },
  {
   "cell_type": "code",
   "execution_count": 6,
   "metadata": {},
   "outputs": [],
   "source": [
    "from logparser.Drain import LogParser"
   ]
  },
  {
   "cell_type": "code",
   "execution_count": 21,
   "metadata": {},
   "outputs": [
    {
     "name": "stdout",
     "output_type": "stream",
     "text": [
      "Parsing file: ./data/raw/HDFS_2k.log\n",
      "Total lines:  2000\n",
      "Processed 50.0% of log lines.\n",
      "Processed 100.0% of log lines.\n",
      "Parsing done. [Time taken: 0:00:00.393562]\n"
     ]
    }
   ],
   "source": [
    "input_dir = './data/raw/' # The input directory of log file\n",
    "output_dir = 'result/'  # The output directory of parsing results\n",
    "\n",
    "\n",
    "log_file = 'HDFS_2k.log'  # The input log file name\n",
    "log_format = '<Date> <Time> <Pid> <Level> <Component> <Content>' # Define log format to split message fields\n",
    "# Regular expression list for optional preprocessing (default: [])\n",
    "regex = [\n",
    "    r'blk_(|-)[0-9]+', # block id\n",
    "    r'(/|)([0-9]+\\.){3}[0-9]+(:[0-9]+|)(:|)', # IP\n",
    "    r'(?<=[^A-Za-z0-9])(\\-?\\+?\\d+)(?=[^A-Za-z0-9])|[0-9]+$', # Numbers\n",
    "]\n",
    "\n",
    "st         = 0.5  # Similarity threshold\n",
    "depth      = 4  # Depth of all leaf nodes\n",
    "\n",
    "parser = LogParser(log_format, indir=input_dir, outdir=output_dir, depth=depth, st=st, rex=regex)\n",
    "parser.parse(log_file)"
   ]
  }
 ],
 "metadata": {
  "kernelspec": {
   "display_name": "base",
   "language": "python",
   "name": "python3"
  },
  "language_info": {
   "codemirror_mode": {
    "name": "ipython",
    "version": 3
   },
   "file_extension": ".py",
   "mimetype": "text/x-python",
   "name": "python",
   "nbconvert_exporter": "python",
   "pygments_lexer": "ipython3",
   "version": "3.11.5"
  }
 },
 "nbformat": 4,
 "nbformat_minor": 2
}
